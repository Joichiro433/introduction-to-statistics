{
 "cells": [
  {
   "cell_type": "code",
   "execution_count": 1,
   "metadata": {},
   "outputs": [],
   "source": [
    "import numpy as np\n",
    "import pandas as pd\n",
    "import seaborn as sns\n",
    "import matplotlib.pyplot as plt\n",
    "from IPython.display import display\n",
    "from nptyping import NDArray\n",
    "\n",
    "sns.set(style='whitegrid')\n",
    "%config InlineBackend.figure_formats = ['svg']"
   ]
  },
  {
   "cell_type": "markdown",
   "metadata": {},
   "source": [
    "## データ準備"
   ]
  },
  {
   "cell_type": "code",
   "execution_count": 2,
   "metadata": {},
   "outputs": [
    {
     "data": {
      "text/html": [
       "<div>\n",
       "<style scoped>\n",
       "    .dataframe tbody tr th:only-of-type {\n",
       "        vertical-align: middle;\n",
       "    }\n",
       "\n",
       "    .dataframe tbody tr th {\n",
       "        vertical-align: top;\n",
       "    }\n",
       "\n",
       "    .dataframe thead th {\n",
       "        text-align: right;\n",
       "    }\n",
       "</style>\n",
       "<table border=\"1\" class=\"dataframe\">\n",
       "  <thead>\n",
       "    <tr style=\"text-align: right;\">\n",
       "      <th></th>\n",
       "      <th>total_bill</th>\n",
       "      <th>tip</th>\n",
       "      <th>sex</th>\n",
       "      <th>smoker</th>\n",
       "      <th>day</th>\n",
       "      <th>time</th>\n",
       "      <th>size</th>\n",
       "      <th>tip_rate</th>\n",
       "    </tr>\n",
       "  </thead>\n",
       "  <tbody>\n",
       "    <tr>\n",
       "      <th>0</th>\n",
       "      <td>16.99</td>\n",
       "      <td>1.01</td>\n",
       "      <td>Female</td>\n",
       "      <td>No</td>\n",
       "      <td>Sun</td>\n",
       "      <td>Dinner</td>\n",
       "      <td>2</td>\n",
       "      <td>0.059447</td>\n",
       "    </tr>\n",
       "    <tr>\n",
       "      <th>1</th>\n",
       "      <td>10.34</td>\n",
       "      <td>1.66</td>\n",
       "      <td>Male</td>\n",
       "      <td>No</td>\n",
       "      <td>Sun</td>\n",
       "      <td>Dinner</td>\n",
       "      <td>3</td>\n",
       "      <td>0.160542</td>\n",
       "    </tr>\n",
       "    <tr>\n",
       "      <th>2</th>\n",
       "      <td>21.01</td>\n",
       "      <td>3.50</td>\n",
       "      <td>Male</td>\n",
       "      <td>No</td>\n",
       "      <td>Sun</td>\n",
       "      <td>Dinner</td>\n",
       "      <td>3</td>\n",
       "      <td>0.166587</td>\n",
       "    </tr>\n",
       "    <tr>\n",
       "      <th>3</th>\n",
       "      <td>23.68</td>\n",
       "      <td>3.31</td>\n",
       "      <td>Male</td>\n",
       "      <td>No</td>\n",
       "      <td>Sun</td>\n",
       "      <td>Dinner</td>\n",
       "      <td>2</td>\n",
       "      <td>0.139780</td>\n",
       "    </tr>\n",
       "    <tr>\n",
       "      <th>4</th>\n",
       "      <td>24.59</td>\n",
       "      <td>3.61</td>\n",
       "      <td>Female</td>\n",
       "      <td>No</td>\n",
       "      <td>Sun</td>\n",
       "      <td>Dinner</td>\n",
       "      <td>4</td>\n",
       "      <td>0.146808</td>\n",
       "    </tr>\n",
       "    <tr>\n",
       "      <th>...</th>\n",
       "      <td>...</td>\n",
       "      <td>...</td>\n",
       "      <td>...</td>\n",
       "      <td>...</td>\n",
       "      <td>...</td>\n",
       "      <td>...</td>\n",
       "      <td>...</td>\n",
       "      <td>...</td>\n",
       "    </tr>\n",
       "    <tr>\n",
       "      <th>239</th>\n",
       "      <td>29.03</td>\n",
       "      <td>5.92</td>\n",
       "      <td>Male</td>\n",
       "      <td>No</td>\n",
       "      <td>Sat</td>\n",
       "      <td>Dinner</td>\n",
       "      <td>3</td>\n",
       "      <td>0.203927</td>\n",
       "    </tr>\n",
       "    <tr>\n",
       "      <th>240</th>\n",
       "      <td>27.18</td>\n",
       "      <td>2.00</td>\n",
       "      <td>Female</td>\n",
       "      <td>Yes</td>\n",
       "      <td>Sat</td>\n",
       "      <td>Dinner</td>\n",
       "      <td>2</td>\n",
       "      <td>0.073584</td>\n",
       "    </tr>\n",
       "    <tr>\n",
       "      <th>241</th>\n",
       "      <td>22.67</td>\n",
       "      <td>2.00</td>\n",
       "      <td>Male</td>\n",
       "      <td>Yes</td>\n",
       "      <td>Sat</td>\n",
       "      <td>Dinner</td>\n",
       "      <td>2</td>\n",
       "      <td>0.088222</td>\n",
       "    </tr>\n",
       "    <tr>\n",
       "      <th>242</th>\n",
       "      <td>17.82</td>\n",
       "      <td>1.75</td>\n",
       "      <td>Male</td>\n",
       "      <td>No</td>\n",
       "      <td>Sat</td>\n",
       "      <td>Dinner</td>\n",
       "      <td>2</td>\n",
       "      <td>0.098204</td>\n",
       "    </tr>\n",
       "    <tr>\n",
       "      <th>243</th>\n",
       "      <td>18.78</td>\n",
       "      <td>3.00</td>\n",
       "      <td>Female</td>\n",
       "      <td>No</td>\n",
       "      <td>Thur</td>\n",
       "      <td>Dinner</td>\n",
       "      <td>2</td>\n",
       "      <td>0.159744</td>\n",
       "    </tr>\n",
       "  </tbody>\n",
       "</table>\n",
       "<p>244 rows × 8 columns</p>\n",
       "</div>"
      ],
      "text/plain": [
       "     total_bill   tip     sex smoker   day    time  size  tip_rate\n",
       "0         16.99  1.01  Female     No   Sun  Dinner     2  0.059447\n",
       "1         10.34  1.66    Male     No   Sun  Dinner     3  0.160542\n",
       "2         21.01  3.50    Male     No   Sun  Dinner     3  0.166587\n",
       "3         23.68  3.31    Male     No   Sun  Dinner     2  0.139780\n",
       "4         24.59  3.61  Female     No   Sun  Dinner     4  0.146808\n",
       "..          ...   ...     ...    ...   ...     ...   ...       ...\n",
       "239       29.03  5.92    Male     No   Sat  Dinner     3  0.203927\n",
       "240       27.18  2.00  Female    Yes   Sat  Dinner     2  0.073584\n",
       "241       22.67  2.00    Male    Yes   Sat  Dinner     2  0.088222\n",
       "242       17.82  1.75    Male     No   Sat  Dinner     2  0.098204\n",
       "243       18.78  3.00  Female     No  Thur  Dinner     2  0.159744\n",
       "\n",
       "[244 rows x 8 columns]"
      ]
     },
     "metadata": {},
     "output_type": "display_data"
    }
   ],
   "source": [
    "df : pd.DataFrame = sns.load_dataset('tips')\n",
    "df['tip_rate'] = df['tip'] / df['total_bill']\n",
    "display(df)"
   ]
  },
  {
   "cell_type": "markdown",
   "metadata": {},
   "source": [
    "## 分布の描画"
   ]
  },
  {
   "cell_type": "code",
   "execution_count": 4,
   "metadata": {},
   "outputs": [
    {
     "data": {
      "image/svg+xml": "<?xml version=\"1.0\" encoding=\"utf-8\" standalone=\"no\"?>\n<!DOCTYPE svg PUBLIC \"-//W3C//DTD SVG 1.1//EN\"\n  \"http://www.w3.org/Graphics/SVG/1.1/DTD/svg11.dtd\">\n<svg height=\"349.467344pt\" version=\"1.1\" viewBox=\"0 0 349.313438 349.467344\" width=\"349.313438pt\" xmlns=\"http://www.w3.org/2000/svg\" xmlns:xlink=\"http://www.w3.org/1999/xlink\">\n <metadata>\n  <rdf:RDF xmlns:cc=\"http://creativecommons.org/ns#\" xmlns:dc=\"http://purl.org/dc/elements/1.1/\" xmlns:rdf=\"http://www.w3.org/1999/02/22-rdf-syntax-ns#\">\n   <cc:Work>\n    <dc:type rdf:resource=\"http://purl.org/dc/dcmitype/StillImage\"/>\n    <dc:date>2022-02-28T01:03:00.105944</dc:date>\n    <dc:format>image/svg+xml</dc:format>\n    <dc:creator>\n     <cc:Agent>\n      <dc:title>Matplotlib v3.4.3, https://matplotlib.org/</dc:title>\n     </cc:Agent>\n    </dc:creator>\n   </cc:Work>\n  </rdf:RDF>\n </metadata>\n <defs>\n  <style type=\"text/css\">*{stroke-linecap:butt;stroke-linejoin:round;}</style>\n </defs>\n <g id=\"figure_1\">\n  <g id=\"patch_1\">\n   <path d=\"M 0 349.467344 \nL 349.313438 349.467344 \nL 349.313438 0 \nL 0 0 \nz\n\" style=\"fill:#ffffff;\"/>\n  </g>\n  <g id=\"axes_1\">\n   <g id=\"patch_2\">\n    <path d=\"M 43.908438 307.733125 \nL 342.113437 307.733125 \nL 342.113437 7.2 \nL 43.908438 7.2 \nz\n\" style=\"fill:#ffffff;\"/>\n   </g>\n   <g id=\"matplotlib.axis_1\">\n    <g id=\"xtick_1\">\n     <g id=\"line2d_1\">\n      <path clip-path=\"url(#pb09324d791)\" d=\"M 87.584927 307.733125 \nL 87.584927 7.2 \n\" style=\"fill:none;stroke:#cccccc;stroke-linecap:round;\"/>\n     </g>\n     <g id=\"text_1\">\n      <!-- 2 -->\n      <g style=\"fill:#262626;\" transform=\"translate(84.526412 325.106719)scale(0.11 -0.11)\">\n       <defs>\n        <path d=\"M 3222 541 \nL 3222 0 \nL 194 0 \nQ 188 203 259 391 \nQ 375 700 629 1000 \nQ 884 1300 1366 1694 \nQ 2113 2306 2375 2664 \nQ 2638 3022 2638 3341 \nQ 2638 3675 2398 3904 \nQ 2159 4134 1775 4134 \nQ 1369 4134 1125 3890 \nQ 881 3647 878 3216 \nL 300 3275 \nQ 359 3922 746 4261 \nQ 1134 4600 1788 4600 \nQ 2447 4600 2831 4234 \nQ 3216 3869 3216 3328 \nQ 3216 3053 3103 2787 \nQ 2991 2522 2730 2228 \nQ 2469 1934 1863 1422 \nQ 1356 997 1212 845 \nQ 1069 694 975 541 \nL 3222 541 \nz\n\" id=\"ArialMT-32\" transform=\"scale(0.015625)\"/>\n       </defs>\n       <use xlink:href=\"#ArialMT-32\"/>\n      </g>\n     </g>\n    </g>\n    <g id=\"xtick_2\">\n     <g id=\"line2d_2\">\n      <path clip-path=\"url(#pb09324d791)\" d=\"M 147.828362 307.733125 \nL 147.828362 7.2 \n\" style=\"fill:none;stroke:#cccccc;stroke-linecap:round;\"/>\n     </g>\n     <g id=\"text_2\">\n      <!-- 4 -->\n      <g style=\"fill:#262626;\" transform=\"translate(144.769846 325.106719)scale(0.11 -0.11)\">\n       <defs>\n        <path d=\"M 2069 0 \nL 2069 1097 \nL 81 1097 \nL 81 1613 \nL 2172 4581 \nL 2631 4581 \nL 2631 1613 \nL 3250 1613 \nL 3250 1097 \nL 2631 1097 \nL 2631 0 \nL 2069 0 \nz\nM 2069 1613 \nL 2069 3678 \nL 634 1613 \nL 2069 1613 \nz\n\" id=\"ArialMT-34\" transform=\"scale(0.015625)\"/>\n       </defs>\n       <use xlink:href=\"#ArialMT-34\"/>\n      </g>\n     </g>\n    </g>\n    <g id=\"xtick_3\">\n     <g id=\"line2d_3\">\n      <path clip-path=\"url(#pb09324d791)\" d=\"M 208.071796 307.733125 \nL 208.071796 7.2 \n\" style=\"fill:none;stroke:#cccccc;stroke-linecap:round;\"/>\n     </g>\n     <g id=\"text_3\">\n      <!-- 6 -->\n      <g style=\"fill:#262626;\" transform=\"translate(205.01328 325.106719)scale(0.11 -0.11)\">\n       <defs>\n        <path d=\"M 3184 3459 \nL 2625 3416 \nQ 2550 3747 2413 3897 \nQ 2184 4138 1850 4138 \nQ 1581 4138 1378 3988 \nQ 1113 3794 959 3422 \nQ 806 3050 800 2363 \nQ 1003 2672 1297 2822 \nQ 1591 2972 1913 2972 \nQ 2475 2972 2870 2558 \nQ 3266 2144 3266 1488 \nQ 3266 1056 3080 686 \nQ 2894 316 2569 119 \nQ 2244 -78 1831 -78 \nQ 1128 -78 684 439 \nQ 241 956 241 2144 \nQ 241 3472 731 4075 \nQ 1159 4600 1884 4600 \nQ 2425 4600 2770 4297 \nQ 3116 3994 3184 3459 \nz\nM 888 1484 \nQ 888 1194 1011 928 \nQ 1134 663 1356 523 \nQ 1578 384 1822 384 \nQ 2178 384 2434 671 \nQ 2691 959 2691 1453 \nQ 2691 1928 2437 2201 \nQ 2184 2475 1800 2475 \nQ 1419 2475 1153 2201 \nQ 888 1928 888 1484 \nz\n\" id=\"ArialMT-36\" transform=\"scale(0.015625)\"/>\n       </defs>\n       <use xlink:href=\"#ArialMT-36\"/>\n      </g>\n     </g>\n    </g>\n    <g id=\"xtick_4\">\n     <g id=\"line2d_4\">\n      <path clip-path=\"url(#pb09324d791)\" d=\"M 268.31523 307.733125 \nL 268.31523 7.2 \n\" style=\"fill:none;stroke:#cccccc;stroke-linecap:round;\"/>\n     </g>\n     <g id=\"text_4\">\n      <!-- 8 -->\n      <g style=\"fill:#262626;\" transform=\"translate(265.256715 325.106719)scale(0.11 -0.11)\">\n       <defs>\n        <path d=\"M 1131 2484 \nQ 781 2613 612 2850 \nQ 444 3088 444 3419 \nQ 444 3919 803 4259 \nQ 1163 4600 1759 4600 \nQ 2359 4600 2725 4251 \nQ 3091 3903 3091 3403 \nQ 3091 3084 2923 2848 \nQ 2756 2613 2416 2484 \nQ 2838 2347 3058 2040 \nQ 3278 1734 3278 1309 \nQ 3278 722 2862 322 \nQ 2447 -78 1769 -78 \nQ 1091 -78 675 323 \nQ 259 725 259 1325 \nQ 259 1772 486 2073 \nQ 713 2375 1131 2484 \nz\nM 1019 3438 \nQ 1019 3113 1228 2906 \nQ 1438 2700 1772 2700 \nQ 2097 2700 2305 2904 \nQ 2513 3109 2513 3406 \nQ 2513 3716 2298 3927 \nQ 2084 4138 1766 4138 \nQ 1444 4138 1231 3931 \nQ 1019 3725 1019 3438 \nz\nM 838 1322 \nQ 838 1081 952 856 \nQ 1066 631 1291 507 \nQ 1516 384 1775 384 \nQ 2178 384 2440 643 \nQ 2703 903 2703 1303 \nQ 2703 1709 2433 1975 \nQ 2163 2241 1756 2241 \nQ 1359 2241 1098 1978 \nQ 838 1716 838 1322 \nz\n\" id=\"ArialMT-38\" transform=\"scale(0.015625)\"/>\n       </defs>\n       <use xlink:href=\"#ArialMT-38\"/>\n      </g>\n     </g>\n    </g>\n    <g id=\"xtick_5\">\n     <g id=\"line2d_5\">\n      <path clip-path=\"url(#pb09324d791)\" d=\"M 328.558665 307.733125 \nL 328.558665 7.2 \n\" style=\"fill:none;stroke:#cccccc;stroke-linecap:round;\"/>\n     </g>\n     <g id=\"text_5\">\n      <!-- 10 -->\n      <g style=\"fill:#262626;\" transform=\"translate(322.441634 325.106719)scale(0.11 -0.11)\">\n       <defs>\n        <path d=\"M 2384 0 \nL 1822 0 \nL 1822 3584 \nQ 1619 3391 1289 3197 \nQ 959 3003 697 2906 \nL 697 3450 \nQ 1169 3672 1522 3987 \nQ 1875 4303 2022 4600 \nL 2384 4600 \nL 2384 0 \nz\n\" id=\"ArialMT-31\" transform=\"scale(0.015625)\"/>\n        <path d=\"M 266 2259 \nQ 266 3072 433 3567 \nQ 600 4063 929 4331 \nQ 1259 4600 1759 4600 \nQ 2128 4600 2406 4451 \nQ 2684 4303 2865 4023 \nQ 3047 3744 3150 3342 \nQ 3253 2941 3253 2259 \nQ 3253 1453 3087 958 \nQ 2922 463 2592 192 \nQ 2263 -78 1759 -78 \nQ 1097 -78 719 397 \nQ 266 969 266 2259 \nz\nM 844 2259 \nQ 844 1131 1108 757 \nQ 1372 384 1759 384 \nQ 2147 384 2411 759 \nQ 2675 1134 2675 2259 \nQ 2675 3391 2411 3762 \nQ 2147 4134 1753 4134 \nQ 1366 4134 1134 3806 \nQ 844 3388 844 2259 \nz\n\" id=\"ArialMT-30\" transform=\"scale(0.015625)\"/>\n       </defs>\n       <use xlink:href=\"#ArialMT-31\"/>\n       <use x=\"55.615234\" xlink:href=\"#ArialMT-30\"/>\n      </g>\n     </g>\n    </g>\n    <g id=\"text_6\">\n     <!-- tip -->\n     <g style=\"fill:#262626;\" transform=\"translate(186.674375 339.882344)scale(0.12 -0.12)\">\n      <defs>\n       <path d=\"M 1650 503 \nL 1731 6 \nQ 1494 -44 1306 -44 \nQ 1000 -44 831 53 \nQ 663 150 594 308 \nQ 525 466 525 972 \nL 525 2881 \nL 113 2881 \nL 113 3319 \nL 525 3319 \nL 525 4141 \nL 1084 4478 \nL 1084 3319 \nL 1650 3319 \nL 1650 2881 \nL 1084 2881 \nL 1084 941 \nQ 1084 700 1114 631 \nQ 1144 563 1211 522 \nQ 1278 481 1403 481 \nQ 1497 481 1650 503 \nz\n\" id=\"ArialMT-74\" transform=\"scale(0.015625)\"/>\n       <path d=\"M 425 3934 \nL 425 4581 \nL 988 4581 \nL 988 3934 \nL 425 3934 \nz\nM 425 0 \nL 425 3319 \nL 988 3319 \nL 988 0 \nL 425 0 \nz\n\" id=\"ArialMT-69\" transform=\"scale(0.015625)\"/>\n       <path d=\"M 422 -1272 \nL 422 3319 \nL 934 3319 \nL 934 2888 \nQ 1116 3141 1344 3267 \nQ 1572 3394 1897 3394 \nQ 2322 3394 2647 3175 \nQ 2972 2956 3137 2557 \nQ 3303 2159 3303 1684 \nQ 3303 1175 3120 767 \nQ 2938 359 2589 142 \nQ 2241 -75 1856 -75 \nQ 1575 -75 1351 44 \nQ 1128 163 984 344 \nL 984 -1272 \nL 422 -1272 \nz\nM 931 1641 \nQ 931 1000 1190 694 \nQ 1450 388 1819 388 \nQ 2194 388 2461 705 \nQ 2728 1022 2728 1688 \nQ 2728 2322 2467 2637 \nQ 2206 2953 1844 2953 \nQ 1484 2953 1207 2617 \nQ 931 2281 931 1641 \nz\n\" id=\"ArialMT-70\" transform=\"scale(0.015625)\"/>\n      </defs>\n      <use xlink:href=\"#ArialMT-74\"/>\n      <use x=\"27.783203\" xlink:href=\"#ArialMT-69\"/>\n      <use x=\"50\" xlink:href=\"#ArialMT-70\"/>\n     </g>\n    </g>\n   </g>\n   <g id=\"matplotlib.axis_2\">\n    <g id=\"ytick_1\">\n     <g id=\"line2d_6\">\n      <path clip-path=\"url(#pb09324d791)\" d=\"M 43.908438 307.733125 \nL 342.113437 307.733125 \n\" style=\"fill:none;stroke:#cccccc;stroke-linecap:round;\"/>\n     </g>\n     <g id=\"text_7\">\n      <!-- 0 -->\n      <g style=\"fill:#262626;\" transform=\"translate(28.291406 311.669922)scale(0.11 -0.11)\">\n       <use xlink:href=\"#ArialMT-30\"/>\n      </g>\n     </g>\n    </g>\n    <g id=\"ytick_2\">\n     <g id=\"line2d_7\">\n      <path clip-path=\"url(#pb09324d791)\" d=\"M 43.908438 253.72897 \nL 342.113437 253.72897 \n\" style=\"fill:none;stroke:#cccccc;stroke-linecap:round;\"/>\n     </g>\n     <g id=\"text_8\">\n      <!-- 10 -->\n      <g style=\"fill:#262626;\" transform=\"translate(22.174375 257.665766)scale(0.11 -0.11)\">\n       <use xlink:href=\"#ArialMT-31\"/>\n       <use x=\"55.615234\" xlink:href=\"#ArialMT-30\"/>\n      </g>\n     </g>\n    </g>\n    <g id=\"ytick_3\">\n     <g id=\"line2d_8\">\n      <path clip-path=\"url(#pb09324d791)\" d=\"M 43.908438 199.724814 \nL 342.113437 199.724814 \n\" style=\"fill:none;stroke:#cccccc;stroke-linecap:round;\"/>\n     </g>\n     <g id=\"text_9\">\n      <!-- 20 -->\n      <g style=\"fill:#262626;\" transform=\"translate(22.174375 203.661611)scale(0.11 -0.11)\">\n       <use xlink:href=\"#ArialMT-32\"/>\n       <use x=\"55.615234\" xlink:href=\"#ArialMT-30\"/>\n      </g>\n     </g>\n    </g>\n    <g id=\"ytick_4\">\n     <g id=\"line2d_9\">\n      <path clip-path=\"url(#pb09324d791)\" d=\"M 43.908438 145.720659 \nL 342.113437 145.720659 \n\" style=\"fill:none;stroke:#cccccc;stroke-linecap:round;\"/>\n     </g>\n     <g id=\"text_10\">\n      <!-- 30 -->\n      <g style=\"fill:#262626;\" transform=\"translate(22.174375 149.657456)scale(0.11 -0.11)\">\n       <defs>\n        <path d=\"M 269 1209 \nL 831 1284 \nQ 928 806 1161 595 \nQ 1394 384 1728 384 \nQ 2125 384 2398 659 \nQ 2672 934 2672 1341 \nQ 2672 1728 2419 1979 \nQ 2166 2231 1775 2231 \nQ 1616 2231 1378 2169 \nL 1441 2663 \nQ 1497 2656 1531 2656 \nQ 1891 2656 2178 2843 \nQ 2466 3031 2466 3422 \nQ 2466 3731 2256 3934 \nQ 2047 4138 1716 4138 \nQ 1388 4138 1169 3931 \nQ 950 3725 888 3313 \nL 325 3413 \nQ 428 3978 793 4289 \nQ 1159 4600 1703 4600 \nQ 2078 4600 2393 4439 \nQ 2709 4278 2876 4000 \nQ 3044 3722 3044 3409 \nQ 3044 3113 2884 2869 \nQ 2725 2625 2413 2481 \nQ 2819 2388 3044 2092 \nQ 3269 1797 3269 1353 \nQ 3269 753 2831 336 \nQ 2394 -81 1725 -81 \nQ 1122 -81 723 278 \nQ 325 638 269 1209 \nz\n\" id=\"ArialMT-33\" transform=\"scale(0.015625)\"/>\n       </defs>\n       <use xlink:href=\"#ArialMT-33\"/>\n       <use x=\"55.615234\" xlink:href=\"#ArialMT-30\"/>\n      </g>\n     </g>\n    </g>\n    <g id=\"ytick_5\">\n     <g id=\"line2d_10\">\n      <path clip-path=\"url(#pb09324d791)\" d=\"M 43.908438 91.716503 \nL 342.113437 91.716503 \n\" style=\"fill:none;stroke:#cccccc;stroke-linecap:round;\"/>\n     </g>\n     <g id=\"text_11\">\n      <!-- 40 -->\n      <g style=\"fill:#262626;\" transform=\"translate(22.174375 95.6533)scale(0.11 -0.11)\">\n       <use xlink:href=\"#ArialMT-34\"/>\n       <use x=\"55.615234\" xlink:href=\"#ArialMT-30\"/>\n      </g>\n     </g>\n    </g>\n    <g id=\"ytick_6\">\n     <g id=\"line2d_11\">\n      <path clip-path=\"url(#pb09324d791)\" d=\"M 43.908438 37.712348 \nL 342.113437 37.712348 \n\" style=\"fill:none;stroke:#cccccc;stroke-linecap:round;\"/>\n     </g>\n     <g id=\"text_12\">\n      <!-- 50 -->\n      <g style=\"fill:#262626;\" transform=\"translate(22.174375 41.649145)scale(0.11 -0.11)\">\n       <defs>\n        <path d=\"M 266 1200 \nL 856 1250 \nQ 922 819 1161 601 \nQ 1400 384 1738 384 \nQ 2144 384 2425 690 \nQ 2706 997 2706 1503 \nQ 2706 1984 2436 2262 \nQ 2166 2541 1728 2541 \nQ 1456 2541 1237 2417 \nQ 1019 2294 894 2097 \nL 366 2166 \nL 809 4519 \nL 3088 4519 \nL 3088 3981 \nL 1259 3981 \nL 1013 2750 \nQ 1425 3038 1878 3038 \nQ 2478 3038 2890 2622 \nQ 3303 2206 3303 1553 \nQ 3303 931 2941 478 \nQ 2500 -78 1738 -78 \nQ 1113 -78 717 272 \nQ 322 622 266 1200 \nz\n\" id=\"ArialMT-35\" transform=\"scale(0.015625)\"/>\n       </defs>\n       <use xlink:href=\"#ArialMT-35\"/>\n       <use x=\"55.615234\" xlink:href=\"#ArialMT-30\"/>\n      </g>\n     </g>\n    </g>\n    <g id=\"text_13\">\n     <!-- Count -->\n     <g style=\"fill:#262626;\" transform=\"translate(15.789375 173.47625)rotate(-90)scale(0.12 -0.12)\">\n      <defs>\n       <path d=\"M 3763 1606 \nL 4369 1453 \nQ 4178 706 3683 314 \nQ 3188 -78 2472 -78 \nQ 1731 -78 1267 223 \nQ 803 525 561 1097 \nQ 319 1669 319 2325 \nQ 319 3041 592 3573 \nQ 866 4106 1370 4382 \nQ 1875 4659 2481 4659 \nQ 3169 4659 3637 4309 \nQ 4106 3959 4291 3325 \nL 3694 3184 \nQ 3534 3684 3231 3912 \nQ 2928 4141 2469 4141 \nQ 1941 4141 1586 3887 \nQ 1231 3634 1087 3207 \nQ 944 2781 944 2328 \nQ 944 1744 1114 1308 \nQ 1284 872 1643 656 \nQ 2003 441 2422 441 \nQ 2931 441 3284 734 \nQ 3638 1028 3763 1606 \nz\n\" id=\"ArialMT-43\" transform=\"scale(0.015625)\"/>\n       <path d=\"M 213 1659 \nQ 213 2581 725 3025 \nQ 1153 3394 1769 3394 \nQ 2453 3394 2887 2945 \nQ 3322 2497 3322 1706 \nQ 3322 1066 3130 698 \nQ 2938 331 2570 128 \nQ 2203 -75 1769 -75 \nQ 1072 -75 642 372 \nQ 213 819 213 1659 \nz\nM 791 1659 \nQ 791 1022 1069 705 \nQ 1347 388 1769 388 \nQ 2188 388 2466 706 \nQ 2744 1025 2744 1678 \nQ 2744 2294 2464 2611 \nQ 2184 2928 1769 2928 \nQ 1347 2928 1069 2612 \nQ 791 2297 791 1659 \nz\n\" id=\"ArialMT-6f\" transform=\"scale(0.015625)\"/>\n       <path d=\"M 2597 0 \nL 2597 488 \nQ 2209 -75 1544 -75 \nQ 1250 -75 995 37 \nQ 741 150 617 320 \nQ 494 491 444 738 \nQ 409 903 409 1263 \nL 409 3319 \nL 972 3319 \nL 972 1478 \nQ 972 1038 1006 884 \nQ 1059 663 1231 536 \nQ 1403 409 1656 409 \nQ 1909 409 2131 539 \nQ 2353 669 2445 892 \nQ 2538 1116 2538 1541 \nL 2538 3319 \nL 3100 3319 \nL 3100 0 \nL 2597 0 \nz\n\" id=\"ArialMT-75\" transform=\"scale(0.015625)\"/>\n       <path d=\"M 422 0 \nL 422 3319 \nL 928 3319 \nL 928 2847 \nQ 1294 3394 1984 3394 \nQ 2284 3394 2536 3286 \nQ 2788 3178 2913 3003 \nQ 3038 2828 3088 2588 \nQ 3119 2431 3119 2041 \nL 3119 0 \nL 2556 0 \nL 2556 2019 \nQ 2556 2363 2490 2533 \nQ 2425 2703 2258 2804 \nQ 2091 2906 1866 2906 \nQ 1506 2906 1245 2678 \nQ 984 2450 984 1813 \nL 984 0 \nL 422 0 \nz\n\" id=\"ArialMT-6e\" transform=\"scale(0.015625)\"/>\n      </defs>\n      <use xlink:href=\"#ArialMT-43\"/>\n      <use x=\"72.216797\" xlink:href=\"#ArialMT-6f\"/>\n      <use x=\"127.832031\" xlink:href=\"#ArialMT-75\"/>\n      <use x=\"183.447266\" xlink:href=\"#ArialMT-6e\"/>\n      <use x=\"239.0625\" xlink:href=\"#ArialMT-74\"/>\n     </g>\n    </g>\n   </g>\n   <g id=\"patch_3\">\n    <path clip-path=\"url(#pb09324d791)\" d=\"M 57.46321 307.733125 \nL 72.524069 307.733125 \nL 72.524069 215.926061 \nL 57.46321 215.926061 \nz\n\" style=\"fill:#4c72b0;fill-opacity:0.75;stroke:#ffffff;stroke-linejoin:miter;\"/>\n   </g>\n   <g id=\"patch_4\">\n    <path clip-path=\"url(#pb09324d791)\" d=\"M 72.524069 307.733125 \nL 87.584927 307.733125 \nL 87.584927 156.52149 \nL 72.524069 156.52149 \nz\n\" style=\"fill:#4c72b0;fill-opacity:0.75;stroke:#ffffff;stroke-linejoin:miter;\"/>\n   </g>\n   <g id=\"patch_5\">\n    <path clip-path=\"url(#pb09324d791)\" d=\"M 87.584927 307.733125 \nL 102.645786 307.733125 \nL 102.645786 21.511101 \nL 87.584927 21.511101 \nz\n\" style=\"fill:#4c72b0;fill-opacity:0.75;stroke:#ffffff;stroke-linejoin:miter;\"/>\n   </g>\n   <g id=\"patch_6\">\n    <path clip-path=\"url(#pb09324d791)\" d=\"M 102.645786 307.733125 \nL 117.706645 307.733125 \nL 117.706645 172.722736 \nL 102.645786 172.722736 \nz\n\" style=\"fill:#4c72b0;fill-opacity:0.75;stroke:#ffffff;stroke-linejoin:miter;\"/>\n   </g>\n   <g id=\"patch_7\">\n    <path clip-path=\"url(#pb09324d791)\" d=\"M 117.706645 307.733125 \nL 132.767503 307.733125 \nL 132.767503 43.112763 \nL 117.706645 43.112763 \nz\n\" style=\"fill:#4c72b0;fill-opacity:0.75;stroke:#ffffff;stroke-linejoin:miter;\"/>\n   </g>\n   <g id=\"patch_8\">\n    <path clip-path=\"url(#pb09324d791)\" d=\"M 132.767503 307.733125 \nL 147.828362 307.733125 \nL 147.828362 205.12523 \nL 132.767503 205.12523 \nz\n\" style=\"fill:#4c72b0;fill-opacity:0.75;stroke:#ffffff;stroke-linejoin:miter;\"/>\n   </g>\n   <g id=\"patch_9\">\n    <path clip-path=\"url(#pb09324d791)\" d=\"M 147.828362 307.733125 \nL 162.88922 307.733125 \nL 162.88922 194.324399 \nL 147.828362 194.324399 \nz\n\" style=\"fill:#4c72b0;fill-opacity:0.75;stroke:#ffffff;stroke-linejoin:miter;\"/>\n   </g>\n   <g id=\"patch_10\">\n    <path clip-path=\"url(#pb09324d791)\" d=\"M 162.88922 307.733125 \nL 177.950079 307.733125 \nL 177.950079 286.131463 \nL 162.88922 286.131463 \nz\n\" style=\"fill:#4c72b0;fill-opacity:0.75;stroke:#ffffff;stroke-linejoin:miter;\"/>\n   </g>\n   <g id=\"patch_11\">\n    <path clip-path=\"url(#pb09324d791)\" d=\"M 177.950079 307.733125 \nL 193.010938 307.733125 \nL 193.010938 221.326476 \nL 177.950079 221.326476 \nz\n\" style=\"fill:#4c72b0;fill-opacity:0.75;stroke:#ffffff;stroke-linejoin:miter;\"/>\n   </g>\n   <g id=\"patch_12\">\n    <path clip-path=\"url(#pb09324d791)\" d=\"M 193.010938 307.733125 \nL 208.071796 307.733125 \nL 208.071796 286.131463 \nL 193.010938 286.131463 \nz\n\" style=\"fill:#4c72b0;fill-opacity:0.75;stroke:#ffffff;stroke-linejoin:miter;\"/>\n   </g>\n   <g id=\"patch_13\">\n    <path clip-path=\"url(#pb09324d791)\" d=\"M 208.071796 307.733125 \nL 223.132655 307.733125 \nL 223.132655 302.332709 \nL 208.071796 302.332709 \nz\n\" style=\"fill:#4c72b0;fill-opacity:0.75;stroke:#ffffff;stroke-linejoin:miter;\"/>\n   </g>\n   <g id=\"patch_14\">\n    <path clip-path=\"url(#pb09324d791)\" d=\"M 223.132655 307.733125 \nL 238.193513 307.733125 \nL 238.193513 286.131463 \nL 223.132655 286.131463 \nz\n\" style=\"fill:#4c72b0;fill-opacity:0.75;stroke:#ffffff;stroke-linejoin:miter;\"/>\n   </g>\n   <g id=\"patch_15\">\n    <path clip-path=\"url(#pb09324d791)\" d=\"M 238.193513 307.733125 \nL 253.254372 307.733125 \nL 253.254372 307.733125 \nL 238.193513 307.733125 \nz\n\" style=\"fill:#4c72b0;fill-opacity:0.75;stroke:#ffffff;stroke-linejoin:miter;\"/>\n   </g>\n   <g id=\"patch_16\">\n    <path clip-path=\"url(#pb09324d791)\" d=\"M 253.254372 307.733125 \nL 268.31523 307.733125 \nL 268.31523 302.332709 \nL 253.254372 302.332709 \nz\n\" style=\"fill:#4c72b0;fill-opacity:0.75;stroke:#ffffff;stroke-linejoin:miter;\"/>\n   </g>\n   <g id=\"patch_17\">\n    <path clip-path=\"url(#pb09324d791)\" d=\"M 268.31523 307.733125 \nL 283.376089 307.733125 \nL 283.376089 307.733125 \nL 268.31523 307.733125 \nz\n\" style=\"fill:#4c72b0;fill-opacity:0.75;stroke:#ffffff;stroke-linejoin:miter;\"/>\n   </g>\n   <g id=\"patch_18\">\n    <path clip-path=\"url(#pb09324d791)\" d=\"M 283.376089 307.733125 \nL 298.436948 307.733125 \nL 298.436948 307.733125 \nL 283.376089 307.733125 \nz\n\" style=\"fill:#4c72b0;fill-opacity:0.75;stroke:#ffffff;stroke-linejoin:miter;\"/>\n   </g>\n   <g id=\"patch_19\">\n    <path clip-path=\"url(#pb09324d791)\" d=\"M 298.436948 307.733125 \nL 313.497806 307.733125 \nL 313.497806 302.332709 \nL 298.436948 302.332709 \nz\n\" style=\"fill:#4c72b0;fill-opacity:0.75;stroke:#ffffff;stroke-linejoin:miter;\"/>\n   </g>\n   <g id=\"patch_20\">\n    <path clip-path=\"url(#pb09324d791)\" d=\"M 313.497806 307.733125 \nL 328.558665 307.733125 \nL 328.558665 302.332709 \nL 313.497806 302.332709 \nz\n\" style=\"fill:#4c72b0;fill-opacity:0.75;stroke:#ffffff;stroke-linejoin:miter;\"/>\n   </g>\n   <g id=\"patch_21\">\n    <path d=\"M 43.908438 307.733125 \nL 43.908438 7.2 \n\" style=\"fill:none;stroke:#cccccc;stroke-linecap:square;stroke-linejoin:miter;stroke-width:1.25;\"/>\n   </g>\n   <g id=\"patch_22\">\n    <path d=\"M 43.908438 307.733125 \nL 342.113438 307.733125 \n\" style=\"fill:none;stroke:#cccccc;stroke-linecap:square;stroke-linejoin:miter;stroke-width:1.25;\"/>\n   </g>\n  </g>\n </g>\n <defs>\n  <clipPath id=\"pb09324d791\">\n   <rect height=\"300.533125\" width=\"298.205\" x=\"43.908438\" y=\"7.2\"/>\n  </clipPath>\n </defs>\n</svg>\n",
      "text/plain": [
       "<Figure size 360x360 with 1 Axes>"
      ]
     },
     "metadata": {},
     "output_type": "display_data"
    }
   ],
   "source": [
    "# ヒストグラムの描画\n",
    "sns.displot(df['tip'], kde=False)\n",
    "plt.show()"
   ]
  },
  {
   "cell_type": "code",
   "execution_count": 6,
   "metadata": {},
   "outputs": [
    {
     "data": {
      "image/svg+xml": "<?xml version=\"1.0\" encoding=\"utf-8\" standalone=\"no\"?>\n<!DOCTYPE svg PUBLIC \"-//W3C//DTD SVG 1.1//EN\"\n  \"http://www.w3.org/Graphics/SVG/1.1/DTD/svg11.dtd\">\n<svg height=\"349.514219pt\" version=\"1.1\" viewBox=\"0 0 349.430469 349.514219\" width=\"349.430469pt\" xmlns=\"http://www.w3.org/2000/svg\" xmlns:xlink=\"http://www.w3.org/1999/xlink\">\n <metadata>\n  <rdf:RDF xmlns:cc=\"http://creativecommons.org/ns#\" xmlns:dc=\"http://purl.org/dc/elements/1.1/\" xmlns:rdf=\"http://www.w3.org/1999/02/22-rdf-syntax-ns#\">\n   <cc:Work>\n    <dc:type rdf:resource=\"http://purl.org/dc/dcmitype/StillImage\"/>\n    <dc:date>2022-02-28T01:05:09.560369</dc:date>\n    <dc:format>image/svg+xml</dc:format>\n    <dc:creator>\n     <cc:Agent>\n      <dc:title>Matplotlib v3.4.3, https://matplotlib.org/</dc:title>\n     </cc:Agent>\n    </dc:creator>\n   </cc:Work>\n  </rdf:RDF>\n </metadata>\n <defs>\n  <style type=\"text/css\">*{stroke-linecap:butt;stroke-linejoin:round;}</style>\n </defs>\n <g id=\"figure_1\">\n  <g id=\"patch_1\">\n   <path d=\"M 0 349.514219 \nL 349.430469 349.514219 \nL 349.430469 0 \nL 0 0 \nz\n\" style=\"fill:#ffffff;\"/>\n  </g>\n  <g id=\"axes_1\">\n   <g id=\"patch_2\">\n    <path d=\"M 50.025469 307.78 \nL 342.230469 307.78 \nL 342.230469 7.2 \nL 50.025469 7.2 \nz\n\" style=\"fill:#ffffff;\"/>\n   </g>\n   <g id=\"matplotlib.axis_1\">\n    <g id=\"xtick_1\">\n     <g id=\"text_1\">\n      <!-- Lunch -->\n      <g style=\"fill:#262626;\" transform=\"translate(108.092656 325.153594)scale(0.11 -0.11)\">\n       <defs>\n        <path d=\"M 469 0 \nL 469 4581 \nL 1075 4581 \nL 1075 541 \nL 3331 541 \nL 3331 0 \nL 469 0 \nz\n\" id=\"ArialMT-4c\" transform=\"scale(0.015625)\"/>\n        <path d=\"M 2597 0 \nL 2597 488 \nQ 2209 -75 1544 -75 \nQ 1250 -75 995 37 \nQ 741 150 617 320 \nQ 494 491 444 738 \nQ 409 903 409 1263 \nL 409 3319 \nL 972 3319 \nL 972 1478 \nQ 972 1038 1006 884 \nQ 1059 663 1231 536 \nQ 1403 409 1656 409 \nQ 1909 409 2131 539 \nQ 2353 669 2445 892 \nQ 2538 1116 2538 1541 \nL 2538 3319 \nL 3100 3319 \nL 3100 0 \nL 2597 0 \nz\n\" id=\"ArialMT-75\" transform=\"scale(0.015625)\"/>\n        <path d=\"M 422 0 \nL 422 3319 \nL 928 3319 \nL 928 2847 \nQ 1294 3394 1984 3394 \nQ 2284 3394 2536 3286 \nQ 2788 3178 2913 3003 \nQ 3038 2828 3088 2588 \nQ 3119 2431 3119 2041 \nL 3119 0 \nL 2556 0 \nL 2556 2019 \nQ 2556 2363 2490 2533 \nQ 2425 2703 2258 2804 \nQ 2091 2906 1866 2906 \nQ 1506 2906 1245 2678 \nQ 984 2450 984 1813 \nL 984 0 \nL 422 0 \nz\n\" id=\"ArialMT-6e\" transform=\"scale(0.015625)\"/>\n        <path d=\"M 2588 1216 \nL 3141 1144 \nQ 3050 572 2676 248 \nQ 2303 -75 1759 -75 \nQ 1078 -75 664 370 \nQ 250 816 250 1647 \nQ 250 2184 428 2587 \nQ 606 2991 970 3192 \nQ 1334 3394 1763 3394 \nQ 2303 3394 2647 3120 \nQ 2991 2847 3088 2344 \nL 2541 2259 \nQ 2463 2594 2264 2762 \nQ 2066 2931 1784 2931 \nQ 1359 2931 1093 2626 \nQ 828 2322 828 1663 \nQ 828 994 1084 691 \nQ 1341 388 1753 388 \nQ 2084 388 2306 591 \nQ 2528 794 2588 1216 \nz\n\" id=\"ArialMT-63\" transform=\"scale(0.015625)\"/>\n        <path d=\"M 422 0 \nL 422 4581 \nL 984 4581 \nL 984 2938 \nQ 1378 3394 1978 3394 \nQ 2347 3394 2619 3248 \nQ 2891 3103 3008 2847 \nQ 3125 2591 3125 2103 \nL 3125 0 \nL 2563 0 \nL 2563 2103 \nQ 2563 2525 2380 2717 \nQ 2197 2909 1863 2909 \nQ 1613 2909 1392 2779 \nQ 1172 2650 1078 2428 \nQ 984 2206 984 1816 \nL 984 0 \nL 422 0 \nz\n\" id=\"ArialMT-68\" transform=\"scale(0.015625)\"/>\n       </defs>\n       <use xlink:href=\"#ArialMT-4c\"/>\n       <use x=\"55.615234\" xlink:href=\"#ArialMT-75\"/>\n       <use x=\"111.230469\" xlink:href=\"#ArialMT-6e\"/>\n       <use x=\"166.845703\" xlink:href=\"#ArialMT-63\"/>\n       <use x=\"216.845703\" xlink:href=\"#ArialMT-68\"/>\n      </g>\n     </g>\n    </g>\n    <g id=\"xtick_2\">\n     <g id=\"text_2\">\n      <!-- Dinner -->\n      <g style=\"fill:#262626;\" transform=\"translate(252.978281 325.153594)scale(0.11 -0.11)\">\n       <defs>\n        <path d=\"M 494 0 \nL 494 4581 \nL 2072 4581 \nQ 2606 4581 2888 4516 \nQ 3281 4425 3559 4188 \nQ 3922 3881 4101 3404 \nQ 4281 2928 4281 2316 \nQ 4281 1794 4159 1391 \nQ 4038 988 3847 723 \nQ 3656 459 3429 307 \nQ 3203 156 2883 78 \nQ 2563 0 2147 0 \nL 494 0 \nz\nM 1100 541 \nL 2078 541 \nQ 2531 541 2789 625 \nQ 3047 709 3200 863 \nQ 3416 1078 3536 1442 \nQ 3656 1806 3656 2325 \nQ 3656 3044 3420 3430 \nQ 3184 3816 2847 3947 \nQ 2603 4041 2063 4041 \nL 1100 4041 \nL 1100 541 \nz\n\" id=\"ArialMT-44\" transform=\"scale(0.015625)\"/>\n        <path d=\"M 425 3934 \nL 425 4581 \nL 988 4581 \nL 988 3934 \nL 425 3934 \nz\nM 425 0 \nL 425 3319 \nL 988 3319 \nL 988 0 \nL 425 0 \nz\n\" id=\"ArialMT-69\" transform=\"scale(0.015625)\"/>\n        <path d=\"M 2694 1069 \nL 3275 997 \nQ 3138 488 2766 206 \nQ 2394 -75 1816 -75 \nQ 1088 -75 661 373 \nQ 234 822 234 1631 \nQ 234 2469 665 2931 \nQ 1097 3394 1784 3394 \nQ 2450 3394 2872 2941 \nQ 3294 2488 3294 1666 \nQ 3294 1616 3291 1516 \nL 816 1516 \nQ 847 969 1125 678 \nQ 1403 388 1819 388 \nQ 2128 388 2347 550 \nQ 2566 713 2694 1069 \nz\nM 847 1978 \nL 2700 1978 \nQ 2663 2397 2488 2606 \nQ 2219 2931 1791 2931 \nQ 1403 2931 1139 2672 \nQ 875 2413 847 1978 \nz\n\" id=\"ArialMT-65\" transform=\"scale(0.015625)\"/>\n        <path d=\"M 416 0 \nL 416 3319 \nL 922 3319 \nL 922 2816 \nQ 1116 3169 1280 3281 \nQ 1444 3394 1641 3394 \nQ 1925 3394 2219 3213 \nL 2025 2691 \nQ 1819 2813 1613 2813 \nQ 1428 2813 1281 2702 \nQ 1134 2591 1072 2394 \nQ 978 2094 978 1738 \nL 978 0 \nL 416 0 \nz\n\" id=\"ArialMT-72\" transform=\"scale(0.015625)\"/>\n       </defs>\n       <use xlink:href=\"#ArialMT-44\"/>\n       <use x=\"72.216797\" xlink:href=\"#ArialMT-69\"/>\n       <use x=\"94.433594\" xlink:href=\"#ArialMT-6e\"/>\n       <use x=\"150.048828\" xlink:href=\"#ArialMT-6e\"/>\n       <use x=\"205.664062\" xlink:href=\"#ArialMT-65\"/>\n       <use x=\"261.279297\" xlink:href=\"#ArialMT-72\"/>\n      </g>\n     </g>\n    </g>\n    <g id=\"text_3\">\n     <!-- time -->\n     <g style=\"fill:#262626;\" transform=\"translate(184.793594 339.929219)scale(0.12 -0.12)\">\n      <defs>\n       <path d=\"M 1650 503 \nL 1731 6 \nQ 1494 -44 1306 -44 \nQ 1000 -44 831 53 \nQ 663 150 594 308 \nQ 525 466 525 972 \nL 525 2881 \nL 113 2881 \nL 113 3319 \nL 525 3319 \nL 525 4141 \nL 1084 4478 \nL 1084 3319 \nL 1650 3319 \nL 1650 2881 \nL 1084 2881 \nL 1084 941 \nQ 1084 700 1114 631 \nQ 1144 563 1211 522 \nQ 1278 481 1403 481 \nQ 1497 481 1650 503 \nz\n\" id=\"ArialMT-74\" transform=\"scale(0.015625)\"/>\n       <path d=\"M 422 0 \nL 422 3319 \nL 925 3319 \nL 925 2853 \nQ 1081 3097 1340 3245 \nQ 1600 3394 1931 3394 \nQ 2300 3394 2536 3241 \nQ 2772 3088 2869 2813 \nQ 3263 3394 3894 3394 \nQ 4388 3394 4653 3120 \nQ 4919 2847 4919 2278 \nL 4919 0 \nL 4359 0 \nL 4359 2091 \nQ 4359 2428 4304 2576 \nQ 4250 2725 4106 2815 \nQ 3963 2906 3769 2906 \nQ 3419 2906 3187 2673 \nQ 2956 2441 2956 1928 \nL 2956 0 \nL 2394 0 \nL 2394 2156 \nQ 2394 2531 2256 2718 \nQ 2119 2906 1806 2906 \nQ 1569 2906 1367 2781 \nQ 1166 2656 1075 2415 \nQ 984 2175 984 1722 \nL 984 0 \nL 422 0 \nz\n\" id=\"ArialMT-6d\" transform=\"scale(0.015625)\"/>\n      </defs>\n      <use xlink:href=\"#ArialMT-74\"/>\n      <use x=\"27.783203\" xlink:href=\"#ArialMT-69\"/>\n      <use x=\"50\" xlink:href=\"#ArialMT-6d\"/>\n      <use x=\"133.300781\" xlink:href=\"#ArialMT-65\"/>\n     </g>\n    </g>\n   </g>\n   <g id=\"matplotlib.axis_2\">\n    <g id=\"ytick_1\">\n     <g id=\"line2d_1\">\n      <path clip-path=\"url(#pa68b668e38)\" d=\"M 50.025469 307.78 \nL 342.230469 307.78 \n\" style=\"fill:none;stroke:#cccccc;stroke-linecap:round;\"/>\n     </g>\n     <g id=\"text_4\">\n      <!-- 0 -->\n      <g style=\"fill:#262626;\" transform=\"translate(34.408438 311.716797)scale(0.11 -0.11)\">\n       <defs>\n        <path d=\"M 266 2259 \nQ 266 3072 433 3567 \nQ 600 4063 929 4331 \nQ 1259 4600 1759 4600 \nQ 2128 4600 2406 4451 \nQ 2684 4303 2865 4023 \nQ 3047 3744 3150 3342 \nQ 3253 2941 3253 2259 \nQ 3253 1453 3087 958 \nQ 2922 463 2592 192 \nQ 2263 -78 1759 -78 \nQ 1097 -78 719 397 \nQ 266 969 266 2259 \nz\nM 844 2259 \nQ 844 1131 1108 757 \nQ 1372 384 1759 384 \nQ 2147 384 2411 759 \nQ 2675 1134 2675 2259 \nQ 2675 3391 2411 3762 \nQ 2147 4134 1753 4134 \nQ 1366 4134 1134 3806 \nQ 844 3388 844 2259 \nz\n\" id=\"ArialMT-30\" transform=\"scale(0.015625)\"/>\n       </defs>\n       <use xlink:href=\"#ArialMT-30\"/>\n      </g>\n     </g>\n    </g>\n    <g id=\"ytick_2\">\n     <g id=\"line2d_2\">\n      <path clip-path=\"url(#pa68b668e38)\" d=\"M 50.025469 267.117121 \nL 342.230469 267.117121 \n\" style=\"fill:none;stroke:#cccccc;stroke-linecap:round;\"/>\n     </g>\n     <g id=\"text_5\">\n      <!-- 25 -->\n      <g style=\"fill:#262626;\" transform=\"translate(28.291406 271.053918)scale(0.11 -0.11)\">\n       <defs>\n        <path d=\"M 3222 541 \nL 3222 0 \nL 194 0 \nQ 188 203 259 391 \nQ 375 700 629 1000 \nQ 884 1300 1366 1694 \nQ 2113 2306 2375 2664 \nQ 2638 3022 2638 3341 \nQ 2638 3675 2398 3904 \nQ 2159 4134 1775 4134 \nQ 1369 4134 1125 3890 \nQ 881 3647 878 3216 \nL 300 3275 \nQ 359 3922 746 4261 \nQ 1134 4600 1788 4600 \nQ 2447 4600 2831 4234 \nQ 3216 3869 3216 3328 \nQ 3216 3053 3103 2787 \nQ 2991 2522 2730 2228 \nQ 2469 1934 1863 1422 \nQ 1356 997 1212 845 \nQ 1069 694 975 541 \nL 3222 541 \nz\n\" id=\"ArialMT-32\" transform=\"scale(0.015625)\"/>\n        <path d=\"M 266 1200 \nL 856 1250 \nQ 922 819 1161 601 \nQ 1400 384 1738 384 \nQ 2144 384 2425 690 \nQ 2706 997 2706 1503 \nQ 2706 1984 2436 2262 \nQ 2166 2541 1728 2541 \nQ 1456 2541 1237 2417 \nQ 1019 2294 894 2097 \nL 366 2166 \nL 809 4519 \nL 3088 4519 \nL 3088 3981 \nL 1259 3981 \nL 1013 2750 \nQ 1425 3038 1878 3038 \nQ 2478 3038 2890 2622 \nQ 3303 2206 3303 1553 \nQ 3303 931 2941 478 \nQ 2500 -78 1738 -78 \nQ 1113 -78 717 272 \nQ 322 622 266 1200 \nz\n\" id=\"ArialMT-35\" transform=\"scale(0.015625)\"/>\n       </defs>\n       <use xlink:href=\"#ArialMT-32\"/>\n       <use x=\"55.615234\" xlink:href=\"#ArialMT-35\"/>\n      </g>\n     </g>\n    </g>\n    <g id=\"ytick_3\">\n     <g id=\"line2d_3\">\n      <path clip-path=\"url(#pa68b668e38)\" d=\"M 50.025469 226.454242 \nL 342.230469 226.454242 \n\" style=\"fill:none;stroke:#cccccc;stroke-linecap:round;\"/>\n     </g>\n     <g id=\"text_6\">\n      <!-- 50 -->\n      <g style=\"fill:#262626;\" transform=\"translate(28.291406 230.391039)scale(0.11 -0.11)\">\n       <use xlink:href=\"#ArialMT-35\"/>\n       <use x=\"55.615234\" xlink:href=\"#ArialMT-30\"/>\n      </g>\n     </g>\n    </g>\n    <g id=\"ytick_4\">\n     <g id=\"line2d_4\">\n      <path clip-path=\"url(#pa68b668e38)\" d=\"M 50.025469 185.791364 \nL 342.230469 185.791364 \n\" style=\"fill:none;stroke:#cccccc;stroke-linecap:round;\"/>\n     </g>\n     <g id=\"text_7\">\n      <!-- 75 -->\n      <g style=\"fill:#262626;\" transform=\"translate(28.291406 189.728161)scale(0.11 -0.11)\">\n       <defs>\n        <path d=\"M 303 3981 \nL 303 4522 \nL 3269 4522 \nL 3269 4084 \nQ 2831 3619 2401 2847 \nQ 1972 2075 1738 1259 \nQ 1569 684 1522 0 \nL 944 0 \nQ 953 541 1156 1306 \nQ 1359 2072 1739 2783 \nQ 2119 3494 2547 3981 \nL 303 3981 \nz\n\" id=\"ArialMT-37\" transform=\"scale(0.015625)\"/>\n       </defs>\n       <use xlink:href=\"#ArialMT-37\"/>\n       <use x=\"55.615234\" xlink:href=\"#ArialMT-35\"/>\n      </g>\n     </g>\n    </g>\n    <g id=\"ytick_5\">\n     <g id=\"line2d_5\">\n      <path clip-path=\"url(#pa68b668e38)\" d=\"M 50.025469 145.128485 \nL 342.230469 145.128485 \n\" style=\"fill:none;stroke:#cccccc;stroke-linecap:round;\"/>\n     </g>\n     <g id=\"text_8\">\n      <!-- 100 -->\n      <g style=\"fill:#262626;\" transform=\"translate(22.174375 149.065282)scale(0.11 -0.11)\">\n       <defs>\n        <path d=\"M 2384 0 \nL 1822 0 \nL 1822 3584 \nQ 1619 3391 1289 3197 \nQ 959 3003 697 2906 \nL 697 3450 \nQ 1169 3672 1522 3987 \nQ 1875 4303 2022 4600 \nL 2384 4600 \nL 2384 0 \nz\n\" id=\"ArialMT-31\" transform=\"scale(0.015625)\"/>\n       </defs>\n       <use xlink:href=\"#ArialMT-31\"/>\n       <use x=\"55.615234\" xlink:href=\"#ArialMT-30\"/>\n       <use x=\"111.230469\" xlink:href=\"#ArialMT-30\"/>\n      </g>\n     </g>\n    </g>\n    <g id=\"ytick_6\">\n     <g id=\"line2d_6\">\n      <path clip-path=\"url(#pa68b668e38)\" d=\"M 50.025469 104.465606 \nL 342.230469 104.465606 \n\" style=\"fill:none;stroke:#cccccc;stroke-linecap:round;\"/>\n     </g>\n     <g id=\"text_9\">\n      <!-- 125 -->\n      <g style=\"fill:#262626;\" transform=\"translate(22.174375 108.402403)scale(0.11 -0.11)\">\n       <use xlink:href=\"#ArialMT-31\"/>\n       <use x=\"55.615234\" xlink:href=\"#ArialMT-32\"/>\n       <use x=\"111.230469\" xlink:href=\"#ArialMT-35\"/>\n      </g>\n     </g>\n    </g>\n    <g id=\"ytick_7\">\n     <g id=\"line2d_7\">\n      <path clip-path=\"url(#pa68b668e38)\" d=\"M 50.025469 63.802727 \nL 342.230469 63.802727 \n\" style=\"fill:none;stroke:#cccccc;stroke-linecap:round;\"/>\n     </g>\n     <g id=\"text_10\">\n      <!-- 150 -->\n      <g style=\"fill:#262626;\" transform=\"translate(22.174375 67.739524)scale(0.11 -0.11)\">\n       <use xlink:href=\"#ArialMT-31\"/>\n       <use x=\"55.615234\" xlink:href=\"#ArialMT-35\"/>\n       <use x=\"111.230469\" xlink:href=\"#ArialMT-30\"/>\n      </g>\n     </g>\n    </g>\n    <g id=\"ytick_8\">\n     <g id=\"line2d_8\">\n      <path clip-path=\"url(#pa68b668e38)\" d=\"M 50.025469 23.139848 \nL 342.230469 23.139848 \n\" style=\"fill:none;stroke:#cccccc;stroke-linecap:round;\"/>\n     </g>\n     <g id=\"text_11\">\n      <!-- 175 -->\n      <g style=\"fill:#262626;\" transform=\"translate(22.174375 27.076645)scale(0.11 -0.11)\">\n       <use xlink:href=\"#ArialMT-31\"/>\n       <use x=\"55.615234\" xlink:href=\"#ArialMT-37\"/>\n       <use x=\"111.230469\" xlink:href=\"#ArialMT-35\"/>\n      </g>\n     </g>\n    </g>\n    <g id=\"text_12\">\n     <!-- count -->\n     <g style=\"fill:#262626;\" transform=\"translate(15.789375 172.166562)rotate(-90)scale(0.12 -0.12)\">\n      <defs>\n       <path d=\"M 213 1659 \nQ 213 2581 725 3025 \nQ 1153 3394 1769 3394 \nQ 2453 3394 2887 2945 \nQ 3322 2497 3322 1706 \nQ 3322 1066 3130 698 \nQ 2938 331 2570 128 \nQ 2203 -75 1769 -75 \nQ 1072 -75 642 372 \nQ 213 819 213 1659 \nz\nM 791 1659 \nQ 791 1022 1069 705 \nQ 1347 388 1769 388 \nQ 2188 388 2466 706 \nQ 2744 1025 2744 1678 \nQ 2744 2294 2464 2611 \nQ 2184 2928 1769 2928 \nQ 1347 2928 1069 2612 \nQ 791 2297 791 1659 \nz\n\" id=\"ArialMT-6f\" transform=\"scale(0.015625)\"/>\n      </defs>\n      <use xlink:href=\"#ArialMT-63\"/>\n      <use x=\"50\" xlink:href=\"#ArialMT-6f\"/>\n      <use x=\"105.615234\" xlink:href=\"#ArialMT-75\"/>\n      <use x=\"161.230469\" xlink:href=\"#ArialMT-6e\"/>\n      <use x=\"216.845703\" xlink:href=\"#ArialMT-74\"/>\n     </g>\n    </g>\n   </g>\n   <g id=\"patch_3\">\n    <path clip-path=\"url(#pa68b668e38)\" d=\"M 64.635719 307.78 \nL 181.517719 307.78 \nL 181.517719 197.17697 \nL 64.635719 197.17697 \nz\n\" style=\"fill:#5875a4;stroke:#ffffff;stroke-linejoin:miter;\"/>\n   </g>\n   <g id=\"patch_4\">\n    <path clip-path=\"url(#pa68b668e38)\" d=\"M 210.738219 307.78 \nL 327.620219 307.78 \nL 327.620219 21.513333 \nL 210.738219 21.513333 \nz\n\" style=\"fill:#cc8963;stroke:#ffffff;stroke-linejoin:miter;\"/>\n   </g>\n   <g id=\"patch_5\">\n    <path d=\"M 50.025469 307.78 \nL 50.025469 7.2 \n\" style=\"fill:none;stroke:#cccccc;stroke-linecap:square;stroke-linejoin:miter;stroke-width:1.25;\"/>\n   </g>\n   <g id=\"patch_6\">\n    <path d=\"M 50.025469 307.78 \nL 342.230469 307.78 \n\" style=\"fill:none;stroke:#cccccc;stroke-linecap:square;stroke-linejoin:miter;stroke-width:1.25;\"/>\n   </g>\n  </g>\n </g>\n <defs>\n  <clipPath id=\"pa68b668e38\">\n   <rect height=\"300.58\" width=\"292.205\" x=\"50.025469\" y=\"7.2\"/>\n  </clipPath>\n </defs>\n</svg>\n",
      "text/plain": [
       "<Figure size 360x360 with 1 Axes>"
      ]
     },
     "metadata": {},
     "output_type": "display_data"
    }
   ],
   "source": [
    "# 棒グラフの描画\n",
    "sns.catplot(data=df, x='time', kind='count')\n",
    "plt.show()"
   ]
  },
  {
   "cell_type": "code",
   "execution_count": null,
   "metadata": {},
   "outputs": [],
   "source": []
  }
 ],
 "metadata": {
  "interpreter": {
   "hash": "5a99c7edf1f3fc19ed6260f2375e0c2cdc899557941adb6e2ad3639d7cc76672"
  },
  "kernelspec": {
   "display_name": "Python 3.9.7 ('dl')",
   "language": "python",
   "name": "python3"
  },
  "language_info": {
   "codemirror_mode": {
    "name": "ipython",
    "version": 3
   },
   "file_extension": ".py",
   "mimetype": "text/x-python",
   "name": "python",
   "nbconvert_exporter": "python",
   "pygments_lexer": "ipython3",
   "version": "3.9.7"
  },
  "orig_nbformat": 4
 },
 "nbformat": 4,
 "nbformat_minor": 2
}
